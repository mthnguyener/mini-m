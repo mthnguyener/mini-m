{
 "cells": [
  {
   "cell_type": "markdown",
   "id": "e8658a2a-ebe8-4405-88b4-54337e790b78",
   "metadata": {},
   "source": [
    "# Imports"
   ]
  },
  {
   "cell_type": "code",
   "execution_count": null,
   "id": "79769628-d7a8-48c8-bb5b-006f6c99aeeb",
   "metadata": {},
   "outputs": [],
   "source": [
    "import boto3, json\n",
    "\n",
    "from budde.utils import docker_secret"
   ]
  },
  {
   "cell_type": "markdown",
   "id": "76a718f8-1422-40e7-ad26-4aaa9d35e03f",
   "metadata": {},
   "source": [
    "# Helpers"
   ]
  },
  {
   "cell_type": "code",
   "execution_count": 2,
   "id": "25ab5324-edbf-4d8c-8fed-d589a1b55b4f",
   "metadata": {},
   "outputs": [],
   "source": [
    "bedrock_runtime = boto3.client(\n",
    "    service_name=\"bedrock-runtime\",\n",
    "    region_name=\"us-east-2\"\n",
    ")"
   ]
  },
  {
   "cell_type": "code",
   "execution_count": 3,
   "id": "11b8d532-19a9-4faa-b01a-93b01d950b66",
   "metadata": {},
   "outputs": [],
   "source": [
    "prompt = \"Write a short article about the marvel character, Wolverine, vs Hulk.\""
   ]
  },
  {
   "cell_type": "code",
   "execution_count": null,
   "id": "2cd2d9aa-77f8-453a-9027-91d88ee99e79",
   "metadata": {},
   "outputs": [],
   "source": [
    "kwargs ={\n",
    "    \"modelId\": \"anthropic.claude-v2\",\n",
    "    \"contentType\": \"application/json\",\n",
    "    \"accept\": \"*/*\",\n",
    "    \"body\": \"{\\\"prompt\\\":\\\"Human: \" + prompt + \"\\\\nAssistant:\\\",\n",
    "    \\\"max_tokens_to_sample\\\":300,\\\"temperature\\\":0.5,\\\"top_k\\\":250,\n",
    "    \\\"top_p\\\":1,\\\"anthropic_version\\\":\\\"bedrock-2023-05-31\\\"}\n",
    "}"
   ]
  },
  {
   "cell_type": "markdown",
   "id": "47059fba-cd6e-43fc-8319-09196a77de50",
   "metadata": {},
   "source": [
    "# Model"
   ]
  },
  {
   "cell_type": "code",
   "execution_count": null,
   "id": "9353ff09-a41f-4aa7-ae07-99a4e4dab1d7",
   "metadata": {},
   "outputs": [],
   "source": [
    "response = bedrock_runtime.invoke_model(**kwargs)\n",
    "\n",
    "response"
   ]
  },
  {
   "cell_type": "code",
   "execution_count": null,
   "id": "085dee0d-7553-4105-b0aa-dcd326160d95",
   "metadata": {},
   "outputs": [],
   "source": [
    "response_body = json.loads(response.get('body').read())\n",
    "\n",
    "response_body"
   ]
  },
  {
   "cell_type": "code",
   "execution_count": null,
   "id": "5eb67d5a-e408-4552-a7a4-871e2e18ec87",
   "metadata": {},
   "outputs": [],
   "source": [
    "completion = response_body.get('completion'\n",
    "                              )[0].get('data').get('text')\n",
    "\n",
    "completion"
   ]
  },
  {
   "cell_type": "markdown",
   "id": "a3eccc16-44c5-47cd-baa2-146b9ff2160a",
   "metadata": {},
   "source": [
    "# Streaming"
   ]
  },
  {
   "cell_type": "code",
   "execution_count": null,
   "id": "25e04f94-e1fd-40e5-b63f-b23f7d42723b",
   "metadata": {},
   "outputs": [],
   "source": [
    "response = bedrock_runtime.invoke_model_with_response_stream(\n",
    "    **kwargs)\n",
    "\n",
    "stream = response.get('body')\n",
    "\n",
    "if stream:\n",
    "    for event in stream:\n",
    "        chunk=event.get('chunk')\n",
    "        if chunk:\n",
    "            print(json.loads(chunk.get('bytes')).get('completion'), \n",
    "                  l\u0000e\u0000t\u0000)"
   ]
  },
  {
   "cell_type": "code",
   "execution_count": null,
   "id": "2d611ddc-4e9d-4351-9e44-34df2da2ad61",
   "metadata": {},
   "outputs": [],
   "source": []
  }
 ],
 "metadata": {
  "kernelspec": {
   "display_name": "Python 3 (ipykernel)",
   "language": "python",
   "name": "python3"
  },
  "language_info": {
   "codemirror_mode": {
    "name": "ipython",
    "version": 3
   },
   "file_extension": ".py",
   "mimetype": "text/x-python",
   "name": "python",
   "nbconvert_exporter": "python",
   "pygments_lexer": "ipython3",
   "version": "3.10.12"
  }
 },
 "nbformat": 4,
 "nbformat_minor": 5
}
