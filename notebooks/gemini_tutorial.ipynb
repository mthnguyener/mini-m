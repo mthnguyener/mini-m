{
 "cells": [
  {
   "cell_type": "code",
   "execution_count": null,
   "id": "e43cf666-5f2f-4989-9f1c-834ad7993955",
   "metadata": {},
   "outputs": [],
   "source": [
    "import textwrap\n",
    "\n",
    "import google.generativeai as genai\n",
    "\n",
    "from IPython.display import Markdown\n",
    "\n",
    "from minim.utils import docker_secret"
   ]
  },
  {
   "cell_type": "code",
   "execution_count": null,
   "id": "25ab5324-edbf-4d8c-8fed-d589a1b55b4f",
   "metadata": {},
   "outputs": [],
   "source": [
    "def to_markdown(text):\n",
    "  text = text.replace('•', '  *')\n",
    "  return Markdown(textwrap.indent(text, '> ', predicate=lambda _: True))"
   ]
  },
  {
   "cell_type": "code",
   "execution_count": null,
   "id": "11b8d532-19a9-4faa-b01a-93b01d950b66",
   "metadata": {},
   "outputs": [],
   "source": [
    "genai.configure(api_key=docker_secret(\"gemini\"))"
   ]
  },
  {
   "cell_type": "code",
   "execution_count": null,
   "id": "2cd2d9aa-77f8-453a-9027-91d88ee99e79",
   "metadata": {},
   "outputs": [],
   "source": [
    "for m in genai.list_models():\n",
    "  if 'generateContent' in m.supported_generation_methods:\n",
    "    print(m.name)"
   ]
  },
  {
   "cell_type": "code",
   "execution_count": null,
   "id": "9353ff09-a41f-4aa7-ae07-99a4e4dab1d7",
   "metadata": {},
   "outputs": [],
   "source": [
    "model = genai.GenerativeModel('gemini-pro')"
   ]
  },
  {
   "cell_type": "code",
   "execution_count": null,
   "id": "085dee0d-7553-4105-b0aa-dcd326160d95",
   "metadata": {},
   "outputs": [],
   "source": [
    "# %%time\n",
    "# response = model.generate_content(\"What is the meaning of life?\")"
   ]
  },
  {
   "cell_type": "code",
   "execution_count": null,
   "id": "5eb67d5a-e408-4552-a7a4-871e2e18ec87",
   "metadata": {},
   "outputs": [],
   "source": [
    "# to_markdown(response.text)"
   ]
  },
  {
   "cell_type": "code",
   "execution_count": null,
   "id": "6957461b-8b04-40dd-82f7-b64940206f81",
   "metadata": {},
   "outputs": [],
   "source": [
    "chat = model.start_chat(history=[])"
   ]
  },
  {
   "cell_type": "code",
   "execution_count": null,
   "id": "0ce71fc0-3f9a-4a85-801d-d7f59d72b7d4",
   "metadata": {},
   "outputs": [],
   "source": [
    "def get_chat_response(chat: genai.generative_models.ChatSession, prompt: str, stream=True) -> str:\n",
    "    response = chat.send_message(prompt, stream=stream)\n",
    "    response.resolve()\n",
    "    return response.text"
   ]
  },
  {
   "cell_type": "code",
   "execution_count": null,
   "id": "8322a698-840b-404e-a82f-c6f2fdcb7f35",
   "metadata": {},
   "outputs": [],
   "source": [
    "prompt = \"Hello.\"\n",
    "print(get_chat_response(chat, prompt))\n",
    "\n",
    "prompt = \"What are all the colors in a rainbow?\"\n",
    "print(get_chat_response(chat, prompt))\n",
    "\n",
    "prompt = \"Why does it appear when it rains?\"\n",
    "print(get_chat_response(chat, prompt))"
   ]
  },
  {
   "cell_type": "code",
   "execution_count": null,
   "id": "12134112-136d-4bb8-b561-4c1ac10a527c",
   "metadata": {},
   "outputs": [],
   "source": [
    "chat.history"
   ]
  },
  {
   "cell_type": "code",
   "execution_count": null,
   "id": "b90d59d3-72f5-4faa-a803-9eec4e07350a",
   "metadata": {},
   "outputs": [],
   "source": []
  }
 ],
 "metadata": {
  "kernelspec": {
   "display_name": "Python 3 (ipykernel)",
   "language": "python",
   "name": "python3"
  },
  "language_info": {
   "codemirror_mode": {
    "name": "ipython",
    "version": 3
   },
   "file_extension": ".py",
   "mimetype": "text/x-python",
   "name": "python",
   "nbconvert_exporter": "python",
   "pygments_lexer": "ipython3",
   "version": "3.10.12"
  }
 },
 "nbformat": 4,
 "nbformat_minor": 5
}
