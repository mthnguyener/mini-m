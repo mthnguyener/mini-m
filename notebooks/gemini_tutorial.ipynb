{
 "cells": [
  {
   "cell_type": "markdown",
   "id": "0a161d26-836c-47fa-9485-d8b71acf1152",
   "metadata": {},
   "source": [
    "# Imports"
   ]
  },
  {
   "cell_type": "code",
   "execution_count": 2,
   "id": "e43cf666-5f2f-4989-9f1c-834ad7993955",
   "metadata": {},
   "outputs": [],
   "source": [
    "import textwrap\n",
    "\n",
    "import google.generativeai as genai\n",
    "\n",
    "from IPython.display import Markdown\n",
    "\n",
    "from minim.utils import docker_secret"
   ]
  },
  {
   "cell_type": "markdown",
   "id": "2a94425a-681d-428f-b816-7d6ddd203053",
   "metadata": {},
   "source": [
    "# Helpers"
   ]
  },
  {
   "cell_type": "code",
   "execution_count": 3,
   "id": "25ab5324-edbf-4d8c-8fed-d589a1b55b4f",
   "metadata": {},
   "outputs": [],
   "source": [
    "def to_markdown(text):\n",
    "  text = text.replace('•', '  *')\n",
    "  return Markdown(textwrap.indent(text, '> ', predicate=lambda _: True))"
   ]
  },
  {
   "cell_type": "code",
   "execution_count": 4,
   "id": "0ce71fc0-3f9a-4a85-801d-d7f59d72b7d4",
   "metadata": {},
   "outputs": [],
   "source": [
    "def get_chat_response(chat: genai.generative_models.ChatSession, prompt: str, stream=True) -> str:\n",
    "    response = chat.send_message(prompt, stream=stream)\n",
    "    response.resolve()\n",
    "    return response.text"
   ]
  },
  {
   "cell_type": "markdown",
   "id": "76b54144-5656-4269-8cc5-fcc59ddc4c5c",
   "metadata": {},
   "source": [
    "# Model"
   ]
  },
  {
   "cell_type": "code",
   "execution_count": 5,
   "id": "11b8d532-19a9-4faa-b01a-93b01d950b66",
   "metadata": {},
   "outputs": [],
   "source": [
    "genai.configure(api_key=docker_secret(\"gemini\"))"
   ]
  },
  {
   "cell_type": "code",
   "execution_count": 6,
   "id": "2cd2d9aa-77f8-453a-9027-91d88ee99e79",
   "metadata": {},
   "outputs": [
    {
     "name": "stdout",
     "output_type": "stream",
     "text": [
      "models/gemini-pro\n",
      "models/gemini-pro-vision\n"
     ]
    }
   ],
   "source": [
    "for m in genai.list_models():\n",
    "  if 'generateContent' in m.supported_generation_methods:\n",
    "    print(m.name)"
   ]
  },
  {
   "cell_type": "code",
   "execution_count": 7,
   "id": "9353ff09-a41f-4aa7-ae07-99a4e4dab1d7",
   "metadata": {},
   "outputs": [],
   "source": [
    "model = genai.GenerativeModel('gemini-pro')"
   ]
  },
  {
   "cell_type": "code",
   "execution_count": null,
   "id": "085dee0d-7553-4105-b0aa-dcd326160d95",
   "metadata": {},
   "outputs": [],
   "source": [
    "# %%time\n",
    "# response = model.generate_content(\"What is the meaning of life?\")"
   ]
  },
  {
   "cell_type": "code",
   "execution_count": null,
   "id": "5eb67d5a-e408-4552-a7a4-871e2e18ec87",
   "metadata": {},
   "outputs": [],
   "source": [
    "# to_markdown(response.text)"
   ]
  },
  {
   "cell_type": "code",
   "execution_count": 8,
   "id": "6957461b-8b04-40dd-82f7-b64940206f81",
   "metadata": {},
   "outputs": [],
   "source": [
    "chat = model.start_chat(history=[])"
   ]
  },
  {
   "cell_type": "code",
   "execution_count": 9,
   "id": "8322a698-840b-404e-a82f-c6f2fdcb7f35",
   "metadata": {},
   "outputs": [
    {
     "name": "stdout",
     "output_type": "stream",
     "text": [
      "Hello there! How may I assist you today?\n",
      "The colors in a rainbow are:\n",
      "\n",
      "* Red\n",
      "* Orange\n",
      "* Yellow\n",
      "* Green\n",
      "* Blue\n",
      "* Indigo\n",
      "* Violet\n",
      "\n",
      "This is often remembered with the acronym ROY G. BIV.\n",
      "\n",
      "Rainbows are caused by the refraction and dispersion of sunlight through water droplets in the atmosphere. When sunlight enters a water droplet, it is bent (refracted) and separated into its component colors (dispersed). The different colors of light are refracted at different angles, which causes them to spread out into a rainbow.\n",
      "\n",
      "The order of the colors in a rainbow is always the same, from red on the outside to violet on the inside. This is because the amount of refraction depends on the wavelength of light, with shorter wavelengths (violet light) refracted more than longer wavelengths (red light).\n",
      "\n",
      "Rainbows are often seen in the sky after a rainstorm, when there are still water droplets in the air. They can also be seen near waterfalls or fountains, where water droplets are being sprayed into the air.\n",
      "Rainbows appear when it rains because of the way that sunlight interacts with water droplets in the air. When sunlight enters a water droplet, it is refracted (bent) and dispersed (separated into its component colors). The different colors of light are refracted at different angles, which causes them to spread out into a rainbow.\n",
      "\n",
      "For a rainbow to be visible, the sun must be behind the observer and the rain must be in front of the observer. The sun's rays must also be at a low angle to the horizon, which is why rainbows are most often seen in the sky after a rainstorm, when the sun is lower in the sky.\n",
      "\n",
      "The size of the raindrops also affects the appearance of the rainbow. Smaller raindrops produce brighter and more distinct rainbows, while larger raindrops produce fainter and more diffuse rainbows.\n",
      "\n",
      "Rainbows can also be seen near waterfalls or fountains, where water droplets are being sprayed into the air. In these cases, the sun must be behind the observer and the water droplets must be in front of the observer, just like with rainbows in the sky.\n",
      "\n",
      "Rainbows are a beautiful and common optical phenomenon that can be enjoyed by people of all ages. They are a reminder of the power of light and the beauty of nature.\n"
     ]
    }
   ],
   "source": [
    "prompt = \"Hello.\"\n",
    "print(get_chat_response(chat, prompt))\n",
    "\n",
    "prompt = \"What are all the colors in a rainbow?\"\n",
    "print(get_chat_response(chat, prompt))\n",
    "\n",
    "prompt = \"Why does it appear when it rains?\"\n",
    "print(get_chat_response(chat, prompt))"
   ]
  },
  {
   "cell_type": "code",
   "execution_count": 10,
   "id": "12134112-136d-4bb8-b561-4c1ac10a527c",
   "metadata": {},
   "outputs": [
    {
     "data": {
      "text/plain": [
       "[parts {\n",
       "   text: \"Hello.\"\n",
       " }\n",
       " role: \"user\",\n",
       " parts {\n",
       "   text: \"Hello there! How may I assist you today?\"\n",
       " }\n",
       " role: \"model\",\n",
       " parts {\n",
       "   text: \"What are all the colors in a rainbow?\"\n",
       " }\n",
       " role: \"user\",\n",
       " parts {\n",
       "   text: \"The colors in a rainbow are:\\n\\n* Red\\n* Orange\\n* Yellow\\n* Green\\n* Blue\\n* Indigo\\n* Violet\\n\\nThis is often remembered with the acronym ROY G. BIV.\\n\\nRainbows are caused by the refraction and dispersion of sunlight through water droplets in the atmosphere. When sunlight enters a water droplet, it is bent (refracted) and separated into its component colors (dispersed). The different colors of light are refracted at different angles, which causes them to spread out into a rainbow.\\n\\nThe order of the colors in a rainbow is always the same, from red on the outside to violet on the inside. This is because the amount of refraction depends on the wavelength of light, with shorter wavelengths (violet light) refracted more than longer wavelengths (red light).\\n\\nRainbows are often seen in the sky after a rainstorm, when there are still water droplets in the air. They can also be seen near waterfalls or fountains, where water droplets are being sprayed into the air.\"\n",
       " }\n",
       " role: \"model\",\n",
       " parts {\n",
       "   text: \"Why does it appear when it rains?\"\n",
       " }\n",
       " role: \"user\",\n",
       " parts {\n",
       "   text: \"Rainbows appear when it rains because of the way that sunlight interacts with water droplets in the air. When sunlight enters a water droplet, it is refracted (bent) and dispersed (separated into its component colors). The different colors of light are refracted at different angles, which causes them to spread out into a rainbow.\\n\\nFor a rainbow to be visible, the sun must be behind the observer and the rain must be in front of the observer. The sun\\'s rays must also be at a low angle to the horizon, which is why rainbows are most often seen in the sky after a rainstorm, when the sun is lower in the sky.\\n\\nThe size of the raindrops also affects the appearance of the rainbow. Smaller raindrops produce brighter and more distinct rainbows, while larger raindrops produce fainter and more diffuse rainbows.\\n\\nRainbows can also be seen near waterfalls or fountains, where water droplets are being sprayed into the air. In these cases, the sun must be behind the observer and the water droplets must be in front of the observer, just like with rainbows in the sky.\\n\\nRainbows are a beautiful and common optical phenomenon that can be enjoyed by people of all ages. They are a reminder of the power of light and the beauty of nature.\"\n",
       " }\n",
       " role: \"model\"]"
      ]
     },
     "execution_count": 10,
     "metadata": {},
     "output_type": "execute_result"
    }
   ],
   "source": [
    "chat.history"
   ]
  },
  {
   "cell_type": "code",
   "execution_count": null,
   "id": "b90d59d3-72f5-4faa-a803-9eec4e07350a",
   "metadata": {},
   "outputs": [],
   "source": []
  }
 ],
 "metadata": {
  "kernelspec": {
   "display_name": "Python 3 (ipykernel)",
   "language": "python",
   "name": "python3"
  },
  "language_info": {
   "codemirror_mode": {
    "name": "ipython",
    "version": 3
   },
   "file_extension": ".py",
   "mimetype": "text/x-python",
   "name": "python",
   "nbconvert_exporter": "python",
   "pygments_lexer": "ipython3",
   "version": "3.10.12"
  }
 },
 "nbformat": 4,
 "nbformat_minor": 5
}
